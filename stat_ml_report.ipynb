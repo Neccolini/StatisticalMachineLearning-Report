{
  "nbformat": 4,
  "nbformat_minor": 0,
  "metadata": {
    "colab": {
      "name": "stat_ml_report.ipynb",
      "provenance": [],
      "collapsed_sections": []
    },
    "kernelspec": {
      "name": "python3",
      "display_name": "Python 3"
    }
  },
  "cells": [
    {
      "cell_type": "markdown",
      "metadata": {
        "id": "L_1oPAJRmZjn",
        "colab_type": "text"
      },
      "source": [
        "ライブラリのインポート"
      ]
    },
    {
      "cell_type": "code",
      "metadata": {
        "id": "PbMr2vdx9S4t",
        "colab_type": "code",
        "colab": {}
      },
      "source": [
        "import numpy as np\n",
        "import pandas as pd\n",
        "import matplotlib.pyplot as plt\n",
        "import datetime\n",
        "import time\n",
        "import seaborn as sns\n",
        "import zipfile\n",
        "import re\n",
        "from sklearn import preprocessing\n",
        "from sklearn.model_selection import train_test_split\n",
        "from sklearn.linear_model import LinearRegression, Ridge, Lasso\n",
        "from sklearn.neighbors import KNeighborsRegressor\n",
        "from sklearn.ensemble import RandomForestRegressor\n",
        "import sklearn.metrics\n",
        "from sklearn.model_selection import cross_val_score, GridSearchCV\n",
        "from sklearn import svm\n",
        "from sklearn.metrics import accuracy_score\n",
        "from sklearn.metrics import r2_score"
      ],
      "execution_count": 702,
      "outputs": []
    },
    {
      "cell_type": "markdown",
      "metadata": {
        "id": "3Hl5G6ZcmcsI",
        "colab_type": "text"
      },
      "source": [
        "データの読み込み"
      ]
    },
    {
      "cell_type": "code",
      "metadata": {
        "id": "zepXVE0P92bB",
        "colab_type": "code",
        "colab": {
          "base_uri": "https://localhost:8080/",
          "height": 682
        },
        "outputId": "c509ea7c-0b5a-4bec-d24a-591c44c173ec"
      },
      "source": [
        "df=pd.read_csv(\"googleplaystore.csv\")\n",
        "df.head(10)"
      ],
      "execution_count": 703,
      "outputs": [
        {
          "output_type": "execute_result",
          "data": {
            "text/html": [
              "<div>\n",
              "<style scoped>\n",
              "    .dataframe tbody tr th:only-of-type {\n",
              "        vertical-align: middle;\n",
              "    }\n",
              "\n",
              "    .dataframe tbody tr th {\n",
              "        vertical-align: top;\n",
              "    }\n",
              "\n",
              "    .dataframe thead th {\n",
              "        text-align: right;\n",
              "    }\n",
              "</style>\n",
              "<table border=\"1\" class=\"dataframe\">\n",
              "  <thead>\n",
              "    <tr style=\"text-align: right;\">\n",
              "      <th></th>\n",
              "      <th>App</th>\n",
              "      <th>Category</th>\n",
              "      <th>Rating</th>\n",
              "      <th>Reviews</th>\n",
              "      <th>Size</th>\n",
              "      <th>Installs</th>\n",
              "      <th>Type</th>\n",
              "      <th>Price</th>\n",
              "      <th>Content Rating</th>\n",
              "      <th>Genres</th>\n",
              "      <th>Last Updated</th>\n",
              "      <th>Current Ver</th>\n",
              "      <th>Android Ver</th>\n",
              "    </tr>\n",
              "  </thead>\n",
              "  <tbody>\n",
              "    <tr>\n",
              "      <th>0</th>\n",
              "      <td>Photo Editor &amp; Candy Camera &amp; Grid &amp; ScrapBook</td>\n",
              "      <td>ART_AND_DESIGN</td>\n",
              "      <td>4.1</td>\n",
              "      <td>159</td>\n",
              "      <td>19M</td>\n",
              "      <td>10,000+</td>\n",
              "      <td>Free</td>\n",
              "      <td>0</td>\n",
              "      <td>Everyone</td>\n",
              "      <td>Art &amp; Design</td>\n",
              "      <td>January 7, 2018</td>\n",
              "      <td>1.0.0</td>\n",
              "      <td>4.0.3 and up</td>\n",
              "    </tr>\n",
              "    <tr>\n",
              "      <th>1</th>\n",
              "      <td>Coloring book moana</td>\n",
              "      <td>ART_AND_DESIGN</td>\n",
              "      <td>3.9</td>\n",
              "      <td>967</td>\n",
              "      <td>14M</td>\n",
              "      <td>500,000+</td>\n",
              "      <td>Free</td>\n",
              "      <td>0</td>\n",
              "      <td>Everyone</td>\n",
              "      <td>Art &amp; Design;Pretend Play</td>\n",
              "      <td>January 15, 2018</td>\n",
              "      <td>2.0.0</td>\n",
              "      <td>4.0.3 and up</td>\n",
              "    </tr>\n",
              "    <tr>\n",
              "      <th>2</th>\n",
              "      <td>U Launcher Lite – FREE Live Cool Themes, Hide ...</td>\n",
              "      <td>ART_AND_DESIGN</td>\n",
              "      <td>4.7</td>\n",
              "      <td>87510</td>\n",
              "      <td>8.7M</td>\n",
              "      <td>5,000,000+</td>\n",
              "      <td>Free</td>\n",
              "      <td>0</td>\n",
              "      <td>Everyone</td>\n",
              "      <td>Art &amp; Design</td>\n",
              "      <td>August 1, 2018</td>\n",
              "      <td>1.2.4</td>\n",
              "      <td>4.0.3 and up</td>\n",
              "    </tr>\n",
              "    <tr>\n",
              "      <th>3</th>\n",
              "      <td>Sketch - Draw &amp; Paint</td>\n",
              "      <td>ART_AND_DESIGN</td>\n",
              "      <td>4.5</td>\n",
              "      <td>215644</td>\n",
              "      <td>25M</td>\n",
              "      <td>50,000,000+</td>\n",
              "      <td>Free</td>\n",
              "      <td>0</td>\n",
              "      <td>Teen</td>\n",
              "      <td>Art &amp; Design</td>\n",
              "      <td>June 8, 2018</td>\n",
              "      <td>Varies with device</td>\n",
              "      <td>4.2 and up</td>\n",
              "    </tr>\n",
              "    <tr>\n",
              "      <th>4</th>\n",
              "      <td>Pixel Draw - Number Art Coloring Book</td>\n",
              "      <td>ART_AND_DESIGN</td>\n",
              "      <td>4.3</td>\n",
              "      <td>967</td>\n",
              "      <td>2.8M</td>\n",
              "      <td>100,000+</td>\n",
              "      <td>Free</td>\n",
              "      <td>0</td>\n",
              "      <td>Everyone</td>\n",
              "      <td>Art &amp; Design;Creativity</td>\n",
              "      <td>June 20, 2018</td>\n",
              "      <td>1.1</td>\n",
              "      <td>4.4 and up</td>\n",
              "    </tr>\n",
              "    <tr>\n",
              "      <th>5</th>\n",
              "      <td>Paper flowers instructions</td>\n",
              "      <td>ART_AND_DESIGN</td>\n",
              "      <td>4.4</td>\n",
              "      <td>167</td>\n",
              "      <td>5.6M</td>\n",
              "      <td>50,000+</td>\n",
              "      <td>Free</td>\n",
              "      <td>0</td>\n",
              "      <td>Everyone</td>\n",
              "      <td>Art &amp; Design</td>\n",
              "      <td>March 26, 2017</td>\n",
              "      <td>1.0</td>\n",
              "      <td>2.3 and up</td>\n",
              "    </tr>\n",
              "    <tr>\n",
              "      <th>6</th>\n",
              "      <td>Smoke Effect Photo Maker - Smoke Editor</td>\n",
              "      <td>ART_AND_DESIGN</td>\n",
              "      <td>3.8</td>\n",
              "      <td>178</td>\n",
              "      <td>19M</td>\n",
              "      <td>50,000+</td>\n",
              "      <td>Free</td>\n",
              "      <td>0</td>\n",
              "      <td>Everyone</td>\n",
              "      <td>Art &amp; Design</td>\n",
              "      <td>April 26, 2018</td>\n",
              "      <td>1.1</td>\n",
              "      <td>4.0.3 and up</td>\n",
              "    </tr>\n",
              "    <tr>\n",
              "      <th>7</th>\n",
              "      <td>Infinite Painter</td>\n",
              "      <td>ART_AND_DESIGN</td>\n",
              "      <td>4.1</td>\n",
              "      <td>36815</td>\n",
              "      <td>29M</td>\n",
              "      <td>1,000,000+</td>\n",
              "      <td>Free</td>\n",
              "      <td>0</td>\n",
              "      <td>Everyone</td>\n",
              "      <td>Art &amp; Design</td>\n",
              "      <td>June 14, 2018</td>\n",
              "      <td>6.1.61.1</td>\n",
              "      <td>4.2 and up</td>\n",
              "    </tr>\n",
              "    <tr>\n",
              "      <th>8</th>\n",
              "      <td>Garden Coloring Book</td>\n",
              "      <td>ART_AND_DESIGN</td>\n",
              "      <td>4.4</td>\n",
              "      <td>13791</td>\n",
              "      <td>33M</td>\n",
              "      <td>1,000,000+</td>\n",
              "      <td>Free</td>\n",
              "      <td>0</td>\n",
              "      <td>Everyone</td>\n",
              "      <td>Art &amp; Design</td>\n",
              "      <td>September 20, 2017</td>\n",
              "      <td>2.9.2</td>\n",
              "      <td>3.0 and up</td>\n",
              "    </tr>\n",
              "    <tr>\n",
              "      <th>9</th>\n",
              "      <td>Kids Paint Free - Drawing Fun</td>\n",
              "      <td>ART_AND_DESIGN</td>\n",
              "      <td>4.7</td>\n",
              "      <td>121</td>\n",
              "      <td>3.1M</td>\n",
              "      <td>10,000+</td>\n",
              "      <td>Free</td>\n",
              "      <td>0</td>\n",
              "      <td>Everyone</td>\n",
              "      <td>Art &amp; Design;Creativity</td>\n",
              "      <td>July 3, 2018</td>\n",
              "      <td>2.8</td>\n",
              "      <td>4.0.3 and up</td>\n",
              "    </tr>\n",
              "  </tbody>\n",
              "</table>\n",
              "</div>"
            ],
            "text/plain": [
              "                                                 App  ...   Android Ver\n",
              "0     Photo Editor & Candy Camera & Grid & ScrapBook  ...  4.0.3 and up\n",
              "1                                Coloring book moana  ...  4.0.3 and up\n",
              "2  U Launcher Lite – FREE Live Cool Themes, Hide ...  ...  4.0.3 and up\n",
              "3                              Sketch - Draw & Paint  ...    4.2 and up\n",
              "4              Pixel Draw - Number Art Coloring Book  ...    4.4 and up\n",
              "5                         Paper flowers instructions  ...    2.3 and up\n",
              "6            Smoke Effect Photo Maker - Smoke Editor  ...  4.0.3 and up\n",
              "7                                   Infinite Painter  ...    4.2 and up\n",
              "8                               Garden Coloring Book  ...    3.0 and up\n",
              "9                      Kids Paint Free - Drawing Fun  ...  4.0.3 and up\n",
              "\n",
              "[10 rows x 13 columns]"
            ]
          },
          "metadata": {
            "tags": []
          },
          "execution_count": 703
        }
      ]
    },
    {
      "cell_type": "markdown",
      "metadata": {
        "id": "OE6yFS4HmfhI",
        "colab_type": "text"
      },
      "source": [
        "前処理"
      ]
    },
    {
      "cell_type": "code",
      "metadata": {
        "id": "yXLc6WLD95f8",
        "colab_type": "code",
        "colab": {
          "base_uri": "https://localhost:8080/",
          "height": 68
        },
        "outputId": "65461f7d-f0d6-475f-a9cc-e616d47fa4b4"
      },
      "source": [
        "#NaNを削除\n",
        "print(f'NaNの数: {df.isnull().sum().sum()}')\n",
        "df['Rating'] = df['Rating'].fillna(df['Rating'].median())\n",
        "df.dropna(inplace=True)\n",
        "print(f'NaNの数: {df.isnull().sum().sum()}')\n",
        "print(f'データの数: {len(df)}')\n",
        "#カテゴリカルデータ\n",
        "df=pd.get_dummies(df,columns=['Category','Genres','Content Rating','Type'])\n",
        "#日付を扱うためにに変換する\n",
        "df['Last Updated']=pd.to_datetime(df['Last Updated'])\n",
        "df['Last Updated']=df['Last Updated'].map(datetime.datetime.toordinal)\n",
        "#扱わないデータを消去\n",
        "df=df.drop([\"App\",'Current Ver','Android Ver'],axis=1)\n",
        "#データを整形\n",
        "df['Price']=[float(p[1:]) if '$' in p else float(p) for p in df['Price']]\n",
        "df['Installs']=[int(ins.strip('+').replace(',','')) for ins in df['Installs']]\n",
        "df['Reviews'] = df['Reviews'].astype(int)"
      ],
      "execution_count": 704,
      "outputs": [
        {
          "output_type": "stream",
          "text": [
            "NaNの数: 1487\n",
            "NaNの数: 0\n",
            "データの数: 10829\n"
          ],
          "name": "stdout"
        }
      ]
    },
    {
      "cell_type": "code",
      "metadata": {
        "id": "B0BX6eMMHaoE",
        "colab_type": "code",
        "colab": {}
      },
      "source": [
        "#この処理はhttps://www.kaggle.com/data13/machine-learning-model-to-predict-app-rating-94　を参考にした\n",
        "k_indices = df['Size'].loc[df['Size'].str.contains('k')].index.tolist()\n",
        "converter = pd.DataFrame(df.loc[k_indices, 'Size'].apply(lambda x: x.strip('k')).astype(float).apply(lambda x: x / 1024).apply(lambda x: round(x, 3)).astype(str))\n",
        "df.loc[k_indices,'Size'] = converter\n",
        "df['Size'] = df['Size'].apply(lambda x: x.strip('M'))\n",
        "df[df['Size'] == 'Varies with device'] = 0\n",
        "df['Size'] = df['Size'].astype(float)"
      ],
      "execution_count": 705,
      "outputs": []
    },
    {
      "cell_type": "code",
      "metadata": {
        "id": "yeId6WvyPpi9",
        "colab_type": "code",
        "colab": {}
      },
      "source": [
        "#Xとyに分け, さらにtrainとtestを分離する\n",
        "y=df['Rating']\n",
        "X=df.drop(['Rating'],axis=1)\n",
        "X_train, X_test, y_train, y_test = train_test_split(X, y, test_size = 0.25, random_state = 10)"
      ],
      "execution_count": 706,
      "outputs": []
    },
    {
      "cell_type": "markdown",
      "metadata": {
        "id": "3ku2vEvymj7n",
        "colab_type": "text"
      },
      "source": [
        "主成分分析(PCA)"
      ]
    },
    {
      "cell_type": "code",
      "metadata": {
        "id": "O0SOwIq9nR64",
        "colab_type": "code",
        "colab": {
          "base_uri": "https://localhost:8080/",
          "height": 51
        },
        "outputId": "48aa3b26-c444-487e-8f47-e4554f9351d7"
      },
      "source": [
        "#PCA\n",
        "from sklearn.decomposition import PCA\n",
        "print(f'次元数:{len(df.columns)}')\n",
        "n_components=10\n",
        "\n",
        "pca=PCA(n_components=10)\n",
        "pca.fit(X)\n",
        "print(f'次元数(PCA):{n_components}')\n",
        "X_pca=pca.transform(X)\n",
        "X_train_pca,X_test_pca,y_train_pca,y_test_pca=train_test_split(X_pca,y,test_size=0.25,random_state=10)"
      ],
      "execution_count": 707,
      "outputs": [
        {
          "output_type": "stream",
          "text": [
            "次元数:166\n",
            "次元数(PCA):10\n"
          ],
          "name": "stdout"
        }
      ]
    },
    {
      "cell_type": "markdown",
      "metadata": {
        "id": "4yGGfInFmyLV",
        "colab_type": "text"
      },
      "source": [
        "モデルの評価関数"
      ]
    },
    {
      "cell_type": "code",
      "metadata": {
        "id": "Yy7gpUpVXSdj",
        "colab_type": "code",
        "colab": {}
      },
      "source": [
        "def model_valuation(y,y_pred):\n",
        "  tmp={}\n",
        "  tmp['RMSE']=round(sklearn.metrics.mean_squared_error(y,y_pred),4)\n",
        "  tmp['MAE']=round(sklearn.metrics.mean_absolute_error(y,y_pred),4)\n",
        "  tmp['R^2']=round(sklearn.metrics.r2_score(y,y_pred),4)\n",
        "\n",
        "  return tmp"
      ],
      "execution_count": 708,
      "outputs": []
    },
    {
      "cell_type": "markdown",
      "metadata": {
        "id": "HbphnIuAm1Gi",
        "colab_type": "text"
      },
      "source": [
        "線形回帰"
      ]
    },
    {
      "cell_type": "code",
      "metadata": {
        "id": "-EkHK_3ZcCPY",
        "colab_type": "code",
        "colab": {
          "base_uri": "https://localhost:8080/",
          "height": 187
        },
        "outputId": "5b2f91a0-0b14-4bca-c4f3-90f1d2372d81"
      },
      "source": [
        "#PCAなし\n",
        "lr=LinearRegression()\n",
        "trainscore={}\n",
        "testscore={}\n",
        "linear_models=[lr,Ridge(),Lasso()]\n",
        "for model in linear_models:\n",
        "  model.fit(X_train,y_train)\n",
        "  y_pred=model.predict(X_train)\n",
        "  y_pred_test=model.predict(X_test)\n",
        "  trainscore[model.__class__.__name__]=model_valuation(y_train,y_pred)\n",
        "  testscore[model.__class__.__name__]=model_valuation(y_test,y_pred_test)\n",
        "print(\"trainscore : \")\n",
        "for i,j in trainscore.items():\n",
        "  print(i,j)\n",
        "print(\"testscore : \")\n",
        "for i,j in testscore.items():\n",
        "  print(i,j)"
      ],
      "execution_count": 709,
      "outputs": [
        {
          "output_type": "stream",
          "text": [
            "trainscore : \n",
            "LinearRegression {'RMSE': 0.1975, 'MAE': 0.2757, 'R^2': 0.9219}\n",
            "Ridge {'RMSE': 0.2001, 'MAE': 0.2789, 'R^2': 0.9208}\n",
            "Lasso {'RMSE': 0.2093, 'MAE': 0.2851, 'R^2': 0.9172}\n",
            "testscore : \n",
            "LinearRegression {'RMSE': 0.2185, 'MAE': 0.2766, 'R^2': 0.9143}\n",
            "Ridge {'RMSE': 0.2147, 'MAE': 0.2787, 'R^2': 0.9158}\n",
            "Lasso {'RMSE': 0.2198, 'MAE': 0.2819, 'R^2': 0.9138}\n"
          ],
          "name": "stdout"
        },
        {
          "output_type": "stream",
          "text": [
            "/usr/local/lib/python3.6/dist-packages/sklearn/linear_model/_ridge.py:148: LinAlgWarning: Ill-conditioned matrix (rcond=4.3281e-20): result may not be accurate.\n",
            "  overwrite_a=True).T\n"
          ],
          "name": "stderr"
        }
      ]
    },
    {
      "cell_type": "code",
      "metadata": {
        "id": "BU8PthLgoHe4",
        "colab_type": "code",
        "colab": {
          "base_uri": "https://localhost:8080/",
          "height": 207
        },
        "outputId": "e08ae830-6120-4fe0-8cc0-ae8491969d67"
      },
      "source": [
        "#PCAあり\n",
        "lr=LinearRegression()\n",
        "LR=LogisticRegression()\n",
        "trainscore={}\n",
        "testscore={}\n",
        "linear_models=[lr,Ridge(),Lasso()]\n",
        "for model in linear_models:\n",
        "  model.fit(X_train_pca,y_train_pca)\n",
        "  y_pred=model.predict(X_train_pca)\n",
        "  y_pred_test=model.predict(X_test_pca)\n",
        "  trainscore[model.__class__.__name__]=model_valuation(y_train_pca,y_pred)\n",
        "  testscore[model.__class__.__name__]=model_valuation(y_test_pca,y_pred_test)\n",
        "print(\"trainscore : \")\n",
        "for i,j in trainscore.items():\n",
        "  print(i,j)\n",
        "print(\"testscore : \")\n",
        "for i,j in testscore.items():\n",
        "  print(i,j)"
      ],
      "execution_count": 710,
      "outputs": [
        {
          "output_type": "stream",
          "text": [
            "trainscore : \n",
            "LinearRegression {'RMSE': 0.2064, 'MAE': 0.2834, 'R^2': 0.9184}\n",
            "Ridge {'RMSE': 0.2064, 'MAE': 0.2834, 'R^2': 0.9184}\n",
            "Lasso {'RMSE': 0.2093, 'MAE': 0.2851, 'R^2': 0.9172}\n",
            "testscore : \n",
            "LinearRegression {'RMSE': 0.2174, 'MAE': 0.28, 'R^2': 0.9148}\n",
            "Ridge {'RMSE': 0.2174, 'MAE': 0.28, 'R^2': 0.9148}\n",
            "Lasso {'RMSE': 0.2198, 'MAE': 0.2819, 'R^2': 0.9138}\n"
          ],
          "name": "stdout"
        },
        {
          "output_type": "stream",
          "text": [
            "/usr/local/lib/python3.6/dist-packages/sklearn/linear_model/_ridge.py:148: LinAlgWarning: Ill-conditioned matrix (rcond=4.18789e-17): result may not be accurate.\n",
            "  overwrite_a=True).T\n"
          ],
          "name": "stderr"
        }
      ]
    },
    {
      "cell_type": "markdown",
      "metadata": {
        "id": "JyzrR6TanPB1",
        "colab_type": "text"
      },
      "source": [
        "k-NN"
      ]
    },
    {
      "cell_type": "code",
      "metadata": {
        "id": "-IhFl4od7ssz",
        "colab_type": "code",
        "colab": {
          "base_uri": "https://localhost:8080/",
          "height": 85
        },
        "outputId": "3138d7cd-a9c2-45e0-ccc0-685014df332f"
      },
      "source": [
        "#pcaなし\n",
        "\n",
        "model = KNeighborsRegressor(n_neighbors=20)\n",
        "model.fit(X_train, y_train)\n",
        "train_pred=model.predict(X_train)\n",
        "test_pred=model.predict(X_test)\n",
        "print('train')\n",
        "print(model_valuation(y_train,train_pred))\n",
        "print('test')\n",
        "print(model_valuation(y_test,test_pred))"
      ],
      "execution_count": 713,
      "outputs": [
        {
          "output_type": "stream",
          "text": [
            "train\n",
            "{'RMSE': 0.1753, 'MAE': 0.2607, 'R^2': 0.9307}\n",
            "test\n",
            "{'RMSE': 0.2032, 'MAE': 0.2678, 'R^2': 0.9204}\n"
          ],
          "name": "stdout"
        }
      ]
    },
    {
      "cell_type": "code",
      "metadata": {
        "id": "jJcFChjzoyZQ",
        "colab_type": "code",
        "colab": {
          "base_uri": "https://localhost:8080/",
          "height": 85
        },
        "outputId": "3931cd99-b2d1-4815-8f98-75909a53ea32"
      },
      "source": [
        "#pcaあり\n",
        "model = KNeighborsRegressor(n_neighbors=20)\n",
        "model.fit(X_train_pca, y_train_pca)\n",
        "train_pred=model.predict(X_train_pca)\n",
        "test_pred=model.predict(X_test_pca)\n",
        "print('train')\n",
        "print(model_valuation(y_train_pca,train_pred))\n",
        "print('test')\n",
        "print(model_valuation(y_test_pca,test_pred))"
      ],
      "execution_count": 714,
      "outputs": [
        {
          "output_type": "stream",
          "text": [
            "train\n",
            "{'RMSE': 0.1752, 'MAE': 0.2607, 'R^2': 0.9307}\n",
            "test\n",
            "{'RMSE': 0.2032, 'MAE': 0.2679, 'R^2': 0.9203}\n"
          ],
          "name": "stdout"
        }
      ]
    },
    {
      "cell_type": "code",
      "metadata": {
        "id": "-_oAI9t61482",
        "colab_type": "code",
        "colab": {}
      },
      "source": [
        "%matplotlib inline\n",
        "step=2 #レポートでは1\n",
        "n_neighbors = np.arange(20, 50, step)\n",
        "scores = []\n",
        "scores_pca=[]\n",
        "for n in n_neighbors:\n",
        "    model.set_params(n_neighbors=n)\n",
        "    model.fit(X_train, y_train)\n",
        "    y_pred=model.predict(X_test)\n",
        "    dic=model_valuation(y_test,y_pred)\n",
        "    scores.append(dic['RMSE'])\n",
        "for n in n_neighbors:\n",
        "    model.set_params(n_neighbors=n)\n",
        "    model.fit(X_train_pca, y_train_pca)\n",
        "    y_pred_pca=model.predict(X_test_pca)\n",
        "    dic=model_valuation(y_test_pca,y_pred_pca)\n",
        "    scores_pca.append(dic['RMSE'])\n"
      ],
      "execution_count": 715,
      "outputs": []
    },
    {
      "cell_type": "code",
      "metadata": {
        "id": "jrdO74BvzYX6",
        "colab_type": "code",
        "colab": {
          "base_uri": "https://localhost:8080/",
          "height": 283
        },
        "outputId": "ed9f1ec0-c6f2-42a0-86be-0b4b7efba37d"
      },
      "source": [
        "fig,ax=plt.subplots()\n",
        "\n",
        "ax.set_xlabel(\"Number of Neighbors K\")\n",
        "ax.set_ylabel(\"Score(RMSE)\")\n",
        "ax.plot(n_neighbors, scores,label='166 dim')\n",
        "ax.grid(True)\n",
        "ax.plot(n_neighbors,scores_pca,label='10 dim')\n",
        "ax.legend()\n",
        "plt.show()\n",
        "\n"
      ],
      "execution_count": 716,
      "outputs": [
        {
          "output_type": "display_data",
          "data": {
            "image/png": "[encoded data removed]",
            "text/plain": [
              "<Figure size 432x288 with 1 Axes>"
            ]
          },
          "metadata": {
            "tags": [],
            "needs_background": "light"
          }
        }
      ]
    },
    {
      "cell_type": "code",
      "metadata": {
        "id": "CqiOZjIIi8Ag",
        "colab_type": "code",
        "colab": {
          "base_uri": "https://localhost:8080/",
          "height": 68
        },
        "outputId": "ebb1f27e-709f-4c86-a352-99620400a13b"
      },
      "source": [
        "Kmodel=KNeighborsRegressor(n_neighbors=38)\n",
        "Kmodel.fit(X_train_pca,y_train_pca)\n",
        "pred=Kmodel.predict(X_test_pca)\n",
        "for i in range(600):\n",
        "  if 0<list(y_test)[i]<2:\n",
        "    print(f'予測値:{pred[i]},実際の値:{list(y_test)[i]}')"
      ],
      "execution_count": 717,
      "outputs": [
        {
          "output_type": "stream",
          "text": [
            "予測値:4.423684210526316,実際の値:1.0\n",
            "予測値:4.15,実際の値:1.7\n",
            "予測値:4.234210526315789,実際の値:1.4\n"
          ],
          "name": "stdout"
        }
      ]
    },
    {
      "cell_type": "markdown",
      "metadata": {
        "id": "rPbRslCkm-sA",
        "colab_type": "text"
      },
      "source": [
        "ランダムフォレスト+グリッドサーチ"
      ]
    },
    {
      "cell_type": "code",
      "metadata": {
        "id": "v32L1TRfFJYm",
        "colab_type": "code",
        "colab": {
          "base_uri": "https://localhost:8080/",
          "height": 323
        },
        "outputId": "a1d4d5e3-409b-4ecf-aca8-ffc84019c959"
      },
      "source": [
        "#時間かかります\n",
        "from sklearn.model_selection import RandomizedSearchCV\n",
        "\n",
        "paramG = {'n_estimators':[197],'max_depth':[29,30,31]}\n",
        "RFC_grid = GridSearchCV(estimator=RandomForestRegressor(random_state=0), param_grid=paramG,\n",
        "                        scoring='r2', cv=3)\n",
        "RFC_grid.fit(X_train,y_train)"
      ],
      "execution_count": 718,
      "outputs": [
        {
          "output_type": "execute_result",
          "data": {
            "text/plain": [
              "GridSearchCV(cv=3, error_score=nan,\n",
              "             estimator=RandomForestRegressor(bootstrap=True, ccp_alpha=0.0,\n",
              "                                             criterion='mse', max_depth=None,\n",
              "                                             max_features='auto',\n",
              "                                             max_leaf_nodes=None,\n",
              "                                             max_samples=None,\n",
              "                                             min_impurity_decrease=0.0,\n",
              "                                             min_impurity_split=None,\n",
              "                                             min_samples_leaf=1,\n",
              "                                             min_samples_split=2,\n",
              "                                             min_weight_fraction_leaf=0.0,\n",
              "                                             n_estimators=100, n_jobs=None,\n",
              "                                             oob_score=False, random_state=0,\n",
              "                                             verbose=0, warm_start=False),\n",
              "             iid='deprecated', n_jobs=None,\n",
              "             param_grid={'max_depth': [29, 30, 31], 'n_estimators': [197]},\n",
              "             pre_dispatch='2*n_jobs', refit=True, return_train_score=False,\n",
              "             scoring='r2', verbose=0)"
            ]
          },
          "metadata": {
            "tags": []
          },
          "execution_count": 718
        }
      ]
    },
    {
      "cell_type": "code",
      "metadata": {
        "id": "Ti_CSOCgF3We",
        "colab_type": "code",
        "colab": {
          "base_uri": "https://localhost:8080/",
          "height": 85
        },
        "outputId": "f71c461c-372a-48c0-e3ae-cd1c6984a476"
      },
      "source": [
        "print('ランダムサーチ・ランダムフォレストモデルにおける n_estimators  :  %d'  %RFC_grid.best_estimator_.n_estimators)\n",
        "\n",
        "print('ランダムサーチ・ランダムフォレストモデルにおける max_depth  :  %d'  %RFC_grid.best_estimator_.max_depth)\n",
        "print('グリッドサーチ・ランダムフォレストモデルによる予測値   :  %.3f'  %r2_score(y_test, RFC_grid.predict(X_test)))\n",
        "pred_rf1=RFC_grid.predict(X_test)\n",
        "print(model_valuation(y_test,pred_rf1))\n"
      ],
      "execution_count": 722,
      "outputs": [
        {
          "output_type": "stream",
          "text": [
            "ランダムサーチ・ランダムフォレストモデルにおける n_estimators  :  197\n",
            "ランダムサーチ・ランダムフォレストモデルにおける max_depth  :  31\n",
            "グリッドサーチ・ランダムフォレストモデルによる予測値   :  0.927\n",
            "{'RMSE': 0.1867, 'MAE': 0.2425, 'R^2': 0.9268}\n"
          ],
          "name": "stdout"
        }
      ]
    },
    {
      "cell_type": "code",
      "metadata": {
        "id": "jBFO4nu5rOjj",
        "colab_type": "code",
        "colab": {
          "base_uri": "https://localhost:8080/",
          "height": 340
        },
        "outputId": "0282c285-9e69-470b-8e4f-d42e41927513"
      },
      "source": [
        "#時間かかります\n",
        "\n",
        "paramG = {'n_estimators':[197],'max_depth':[28,29,30,31,32]}\n",
        "RFC_grid = GridSearchCV(estimator=RandomForestRegressor(random_state=0), param_grid=paramG,\n",
        "                        scoring='r2', cv=3)\n",
        "RFC_grid.fit(X_train_pca,y_train_pca)"
      ],
      "execution_count": 683,
      "outputs": [
        {
          "output_type": "execute_result",
          "data": {
            "text/plain": [
              "GridSearchCV(cv=3, error_score=nan,\n",
              "             estimator=RandomForestRegressor(bootstrap=True, ccp_alpha=0.0,\n",
              "                                             criterion='mse', max_depth=None,\n",
              "                                             max_features='auto',\n",
              "                                             max_leaf_nodes=None,\n",
              "                                             max_samples=None,\n",
              "                                             min_impurity_decrease=0.0,\n",
              "                                             min_impurity_split=None,\n",
              "                                             min_samples_leaf=1,\n",
              "                                             min_samples_split=2,\n",
              "                                             min_weight_fraction_leaf=0.0,\n",
              "                                             n_estimators=100, n_jobs=None,\n",
              "                                             oob_score=False, random_state=0,\n",
              "                                             verbose=0, warm_start=False),\n",
              "             iid='deprecated', n_jobs=None,\n",
              "             param_grid={'max_depth': [28, 29, 30, 31, 32],\n",
              "                         'n_estimators': [197]},\n",
              "             pre_dispatch='2*n_jobs', refit=True, return_train_score=False,\n",
              "             scoring='r2', verbose=0)"
            ]
          },
          "metadata": {
            "tags": []
          },
          "execution_count": 683
        }
      ]
    },
    {
      "cell_type": "code",
      "metadata": {
        "id": "8QfJLXmv_ioM",
        "colab_type": "code",
        "colab": {
          "base_uri": "https://localhost:8080/",
          "height": 136
        },
        "outputId": "535a1416-3895-4ba7-85b7-288ddde9260c"
      },
      "source": [
        "print('ランダムサーチ・ランダムフォレストモデルにおける n_estimators  :  %d'  %RFC_grid.best_estimator_.n_estimators)\n",
        "\n",
        "print('ランダムサーチ・ランダムフォレストモデルにおける max_depth  :  %d'  %RFC_grid.best_estimator_.max_depth)\n",
        "print('グリッドサーチ・ランダムフォレストモデルによる予測値   :  %.3f'  %r2_score(y_test_pca, RFC_grid.predict(X_test_pca)))\n",
        "pred=RFC_grid.predict(X_test_pca)\n",
        "print(model_valuation(y_test_pca,pred))\n",
        "for i in range(600):\n",
        "  if 0<list(y_test_pca)[i]<2:\n",
        "    print(f'予測値:{pred[i]},実際の値:{list(y_test_pca)[i]}')"
      ],
      "execution_count": 684,
      "outputs": [
        {
          "output_type": "stream",
          "text": [
            "ランダムサーチ・ランダムフォレストモデルにおける n_estimators  :  197\n",
            "ランダムサーチ・ランダムフォレストモデルにおける max_depth  :  31\n",
            "グリッドサーチ・ランダムフォレストモデルによる予測値   :  0.929\n",
            "{'RMSE': 0.1807, 'MAE': 0.2481, 'R^2': 0.9291}\n",
            "予測値:4.18840063641184,実際の値:1.0\n",
            "予測値:3.57723545490043,実際の値:1.7\n",
            "予測値:4.220812182741112,実際の値:1.4\n"
          ],
          "name": "stdout"
        }
      ]
    },
    {
      "cell_type": "code",
      "metadata": {
        "id": "SBg67w7H9Ty9",
        "colab_type": "code",
        "colab": {
          "base_uri": "https://localhost:8080/",
          "height": 323
        },
        "outputId": "4a66dc7c-fe14-4eb2-ae57-6d8869ce43db"
      },
      "source": [
        "max_plt=20\n",
        "model=RandomForestRegressor(n_estimators=197,max_depth=31)\n",
        "model.fit(X_train,y_train)\n",
        "d=np.arange(max_plt)\n",
        "FeatureDict={}\n",
        "for i in range(len(X_train.columns)):\n",
        "  FeatureDict[X_train.columns[i]]=model.feature_importances_[i]\n",
        "FeatureDict = dict(sorted(FeatureDict.items(), key=lambda x:x[1],reverse=True))\n",
        "print(FeatureDict)\n",
        "y=list(FeatureDict.values())\n",
        "z=list(FeatureDict.keys())\n",
        "plt.yticks(d,z[:max_plt])\n",
        "plt.barh(d,y[:max_plt])"
      ],
      "execution_count": 629,
      "outputs": [
        {
          "output_type": "stream",
          "text": [
            "{'Last Updated': 0.5569990947457093, 'Size': 0.39142800591390126, 'Reviews': 0.01850618139500673, 'Installs': 0.007964899590822944, 'Price': 0.001146805512594653, 'Genres_Entertainment': 0.0009569104223115668, 'Genres_Education': 0.0007959155893133172, 'Category_FAMILY': 0.0007042075999752105, 'Genres_Tools': 0.0006623489294660256, 'Category_LIFESTYLE': 0.000655158722048197, 'Category_TOOLS': 0.00065311465564046, 'Content Rating_Everyone': 0.0006319939695996311, 'Genres_Lifestyle': 0.0006268943569694668, 'Genres_Medical': 0.0005182410305440073, 'Category_MEDICAL': 0.0005175023524868368, 'Content Rating_Mature 17+': 0.0005011689737157804, 'Category_HEALTH_AND_FITNESS': 0.0004984074588018193, 'Genres_Health & Fitness': 0.0004747893064212724, 'Category_FINANCE': 0.00047345511679122644, 'Content Rating_Teen': 0.00045674071109146633, 'Genres_Finance': 0.00045071502472553214, 'Category_DATING': 0.0004302691724306651, 'Genres_Dating': 0.00041860645416260626, 'Genres_Photography': 0.00039856019428598824, 'Category_PRODUCTIVITY': 0.0003947620115689414, 'Genres_Productivity': 0.0003850824435254095, 'Category_PHOTOGRAPHY': 0.00037134494998100766, 'Genres_Casual': 0.00036930583228218187, 'Genres_Travel & Local': 0.00036106482821706944, 'Category_GAME': 0.0003562491007048641, 'Category_COMMUNICATION': 0.000341104626028691, 'Genres_Educational': 0.00033496468205504925, 'Genres_Communication': 0.00032258916803180177, 'Content Rating_Everyone 10+': 0.00031479335885852396, 'Category_TRAVEL_AND_LOCAL': 0.00031298357365168537, 'Category_NEWS_AND_MAGAZINES': 0.0002986662909388932, 'Genres_Card': 0.00029545988011717795, 'Category_VIDEO_PLAYERS': 0.00029345344647101727, 'Category_SPORTS': 0.0002885408779003204, 'Genres_Simulation': 0.0002873501893642972, 'Type_Free': 0.00028275246398147856, 'Category_BUSINESS': 0.000279928376951729, 'Genres_Business': 0.0002779790862852162, 'Genres_Sports': 0.0002768988164574164, 'Genres_News & Magazines': 0.00027272010265601553, 'Type_Paid': 0.00027122589519422397, 'Genres_Maps & Navigation': 0.0002564282037557363, 'Genres_Video Players & Editors': 0.0002514765905034437, 'Category_MAPS_AND_NAVIGATION': 0.0002386927241322039, 'Genres_Trivia': 0.00022088989514286583, 'Category_AUTO_AND_VEHICLES': 0.00021745610951651444, 'Genres_Personalization': 0.0002139768894676542, 'Category_PERSONALIZATION': 0.0002133135045780803, 'Genres_Auto & Vehicles': 0.00020586667363586968, 'Genres_Social': 0.0002032841225780486, 'Genres_Arcade': 0.00020017841736611586, 'Category_SHOPPING': 0.00019800220592148174, 'Genres_Shopping': 0.0001915268771804452, 'Category_FOOD_AND_DRINK': 0.00019069437087905142, 'Genres_Books & Reference': 0.0001853875429396383, 'Category_SOCIAL': 0.00017904277780222193, 'Genres_Action': 0.00017774948886117278, 'Genres_Food & Drink': 0.0001752460509385651, 'Category_BOOKS_AND_REFERENCE': 0.00016969383185279867, 'Genres_Strategy': 0.0001555779821732501, 'Category_COMICS': 0.00015124679887815588, 'Genres_Role Playing': 0.00014691447288621426, 'Genres_Board': 0.00013695289752690376, 'Genres_Education;Education': 0.0001324802906992514, 'Genres_Comics': 0.00013200411009643847, 'Genres_Puzzle': 0.00011728660046763352, 'Genres_Racing': 0.00011351847458014555, 'Category_ENTERTAINMENT': 7.918154535856321e-05, 'Genres_Educational;Creativity': 7.479301648226312e-05, 'Genres_Adventure': 6.638028483783528e-05, 'Category_HOUSE_AND_HOME': 6.589339957060225e-05, 'Genres_Libraries & Demo': 6.152651623038772e-05, 'Genres_House & Home': 6.114263295462192e-05, 'Category_LIBRARIES_AND_DEMO': 6.0308491980772086e-05, 'Category_PARENTING': 5.377768934806312e-05, 'Genres_Music': 5.169433324388322e-05, 'Category_ART_AND_DESIGN': 5.104114884662159e-05, 'Category_WEATHER': 4.539281694214445e-05, 'Genres_Weather': 4.435802668251716e-05, 'Category_EDUCATION': 4.3579623589200246e-05, 'Category_EVENTS': 4.24567505483706e-05, 'Genres_Art & Design': 3.9343098037177795e-05, 'Genres_Events': 3.70468829980018e-05, 'Genres_Educational;Education': 3.664833444910575e-05, 'Genres_Arcade;Action & Adventure': 3.570015424256037e-05, 'Genres_Word': 3.3460843074192945e-05, 'Genres_Beauty': 3.281345038030027e-05, 'Genres_Parenting': 3.161935315338131e-05, 'Category_BEAUTY': 2.9713924883709165e-05, 'Genres_Casual;Pretend Play': 2.48983419619838e-05, 'Genres_Casino': 2.4451445030595312e-05, 'Genres_Educational;Brain Games': 1.9278140746920216e-05, 'Genres_Entertainment;Music & Video': 1.795934239873859e-05, 'Genres_Simulation;Action & Adventure': 1.7223354470861132e-05, 'Genres_Role Playing;Pretend Play': 1.4448157562342328e-05, 'Genres_Parenting;Music & Video': 1.22249204025454e-05, 'Genres_Entertainment;Pretend Play': 1.1226436289207592e-05, 'Genres_Casual;Brain Games': 9.989892383319235e-06, 'Genres_Books & Reference;Education': 9.790030468619679e-06, 'Genres_Entertainment;Brain Games': 9.74368067476149e-06, 'Genres_Education;Pretend Play': 9.500531014055666e-06, 'Genres_Puzzle;Brain Games': 8.208968232114673e-06, 'Genres_Parenting;Education': 6.781989814407995e-06, 'Genres_Racing;Action & Adventure': 5.985016880865812e-06, 'Genres_Educational;Pretend Play': 5.824659435994985e-06, 'Genres_Action;Action & Adventure': 5.315889077379075e-06, 'Genres_Board;Brain Games': 5.047215634525633e-06, 'Genres_Strategy;Action & Adventure': 4.928422783786594e-06, 'Genres_Board;Pretend Play': 4.6651846236542665e-06, 'Genres_Video Players & Editors;Creativity': 4.568169106831535e-06, 'Genres_Art & Design;Creativity': 4.564046470744316e-06, 'Genres_Education;Music & Video': 4.064362763419103e-06, 'Genres_Adventure;Education': 3.4651325141538628e-06, 'Genres_Simulation;Education': 2.8455440744148553e-06, 'Genres_Puzzle;Education': 2.763718965878775e-06, 'Genres_Art & Design;Pretend Play': 2.6412451860675733e-06, 'Genres_Trivia;Education': 2.5676935505619124e-06, 'Genres_Casual;Creativity': 2.413536829507051e-06, 'Genres_Comics;Creativity': 2.3739090166019515e-06, 'Genres_Education;Creativity': 2.255480954465577e-06, 'Genres_Role Playing;Action & Adventure': 2.164210720008129e-06, 'Genres_Entertainment;Creativity': 1.9559845667211174e-06, 'Genres_Casual;Action & Adventure': 1.8689854787930982e-06, 'Genres_Music & Audio;Music & Video': 1.6833863110300223e-06, 'Content Rating_Adults only 18+': 1.6656683137521391e-06, 'Genres_Board;Action & Adventure': 1.5372866248598071e-06, 'Genres_Educational;Action & Adventure': 1.394510661946131e-06, 'Genres_Racing;Pretend Play': 1.3070279774063989e-06, 'Genres_Casual;Music & Video': 1.156706796255358e-06, 'Genres_Entertainment;Action & Adventure': 1.1282205600257997e-06, 'Genres_Education;Action & Adventure': 1.1125278740117935e-06, 'Genres_Card;Brain Games': 9.822536345608307e-07, 'Genres_Role Playing;Education': 9.013363209443637e-07, 'Genres_Sports;Action & Adventure': 8.889494851430856e-07, 'Genres_Books & Reference;Creativity': 8.86085959438724e-07, 'Genres_Strategy;Education': 8.530863944572456e-07, 'Genres_Casual;Education': 7.134927570763123e-07, 'Genres_Simulation;Pretend Play': 6.387644959460233e-07, 'Genres_Puzzle;Action & Adventure': 4.702486590054691e-07, 'Genres_Education;Brain Games': 4.3626320322861566e-07, 'Genres_Music;Music & Video': 3.867660054969955e-07, 'Genres_Video Players & Editors;Music & Video': 3.810748500125573e-07, 'Genres_Arcade;Pretend Play': 3.451877860327936e-07, 'Genres_Role Playing;Brain Games': 3.3039532201877027e-07, 'Genres_Adventure;Action & Adventure': 2.465905581023835e-07, 'Genres_Card;Action & Adventure': 1.5331748268971569e-07, 'Content Rating_Unrated': 1.3758716192938353e-07, 'Genres_Strategy;Creativity': 9.753212297082619e-08, 'Genres_Travel & Local;Action & Adventure': 7.400655399962222e-08, 'Genres_Puzzle;Creativity': 4.6477002690070695e-08, 'Genres_Art & Design;Action & Adventure': 4.6329927464284664e-08, 'Genres_Adventure;Brain Games': 2.7856879534687315e-08, 'Genres_Communication;Creativity': 0.0, 'Genres_Entertainment;Education': 0.0, 'Genres_Health & Fitness;Action & Adventure': 0.0, 'Genres_Health & Fitness;Education': 0.0, 'Genres_Lifestyle;Education': 0.0, 'Genres_Lifestyle;Pretend Play': 0.0, 'Genres_Parenting;Brain Games': 0.0, 'Genres_Tools;Education': 0.0}\n"
          ],
          "name": "stdout"
        },
        {
          "output_type": "execute_result",
          "data": {
            "text/plain": [
              "<BarContainer object of 20 artists>"
            ]
          },
          "metadata": {
            "tags": []
          },
          "execution_count": 629
        },
        {
          "output_type": "display_data",
          "data": {
            "image/png": "[encoded data removed]",
            "text/plain": [
              "<Figure size 432x288 with 1 Axes>"
            ]
          },
          "metadata": {
            "tags": [],
            "needs_background": "light"
          }
        }
      ]
    },
    {
      "cell_type": "markdown",
      "metadata": {
        "id": "2ma1H4pxoLdH",
        "colab_type": "text"
      },
      "source": [
        "lightGBM+グリッドサーチ"
      ]
    },
    {
      "cell_type": "code",
      "metadata": {
        "id": "ZJPnZtCQa6bA",
        "colab_type": "code",
        "colab": {}
      },
      "source": [
        "#pcaなし\n",
        "import lightgbm\n",
        "paramG={'max_depth':[14,16,18,20,22,24],'n_estimators':[40,45,50,55,60]}\n",
        "gbm=lightgbm.LGBMRegressor()\n",
        "RFC_grid=GridSearchCV(estimator=gbm,param_grid=paramG, scoring='r2',cv=3)\n",
        "RFC_grid.fit(X_train,y_train)\n",
        "ypred2=model.predict(X_test)"
      ],
      "execution_count": 685,
      "outputs": []
    },
    {
      "cell_type": "code",
      "metadata": {
        "id": "z0cxcNiLa97n",
        "colab_type": "code",
        "colab": {
          "base_uri": "https://localhost:8080/",
          "height": 136
        },
        "outputId": "ed768302-97e2-43c9-9428-10f4182deb37"
      },
      "source": [
        "print('グリッドサーチ·lightGBMにおける n_estimators  :  %d'  %RFC_grid.best_estimator_.n_estimators)\n",
        "\n",
        "print('グリッドサーチ·lightGBMにおける max_depth  :  %d'  %RFC_grid.best_estimator_.max_depth)\n",
        "print('グリッドサーチ・lightGBMによる予測値   :  %.3f'  %r2_score(y_test, RFC_grid.predict(X_test)))\n",
        "pred_gbm=RFC_grid.predict(X_test)\n",
        "print(model_valuation(y_test,pred_gbm))\n",
        "for i in range(600):\n",
        "  if 0<list(y_test)[i]<2:\n",
        "    print(f'予測値:{pred_gbm[i]},実際の値:{list(y_test)[i]}')"
      ],
      "execution_count": 686,
      "outputs": [
        {
          "output_type": "stream",
          "text": [
            "グリッドサーチ·lightGBMにおける n_estimators  :  50\n",
            "グリッドサーチ·lightGBMにおける max_depth  :  14\n",
            "グリッドサーチ・lightGBMによる予測値   :  0.927\n",
            "{'RMSE': 0.1875, 'MAE': 0.2568, 'R^2': 0.9265}\n",
            "予測値:4.31949995513207,実際の値:1.0\n",
            "予測値:3.810354807901916,実際の値:1.7\n",
            "予測値:4.201470426941993,実際の値:1.4\n"
          ],
          "name": "stdout"
        }
      ]
    },
    {
      "cell_type": "code",
      "metadata": {
        "id": "pFxhKMS7byN4",
        "colab_type": "code",
        "colab": {
          "base_uri": "https://localhost:8080/",
          "height": 323
        },
        "outputId": "41623bee-e333-48ce-9a65-a7a6c1da9570"
      },
      "source": [
        "max_plt=20\n",
        "model=lightgbm.LGBMRegressor(n_estimators=50,max_depth=14)\n",
        "model.fit(X_train,y_train)\n",
        "d=np.arange(max_plt)\n",
        "FeatureDict={}\n",
        "for i in range(len(X_train.columns)):\n",
        "  FeatureDict[X_train.columns[i]]=model.feature_importances_[i]\n",
        "FeatureDict = dict(sorted(FeatureDict.items(), key=lambda x:x[1],reverse=True))\n",
        "print(FeatureDict)\n",
        "y=list(FeatureDict.values())\n",
        "z=list(FeatureDict.keys())\n",
        "plt.yticks(d,z[:max_plt])\n",
        "plt.barh(d,y[:max_plt])"
      ],
      "execution_count": 681,
      "outputs": [
        {
          "output_type": "stream",
          "text": [
            "{'Reviews': 335, 'Size': 269, 'Last Updated': 255, 'Installs': 181, 'Price': 41, 'Category_TOOLS': 31, 'Category_HEALTH_AND_FITNESS': 27, 'Genres_Education': 25, 'Category_LIFESTYLE': 21, 'Category_DATING': 20, 'Category_PERSONALIZATION': 16, 'Category_MEDICAL': 15, 'Category_VIDEO_PLAYERS': 15, 'Category_FINANCE': 14, 'Category_MAPS_AND_NAVIGATION': 13, 'Category_BOOKS_AND_REFERENCE': 12, 'Category_PHOTOGRAPHY': 12, 'Genres_Entertainment': 12, 'Category_PARENTING': 11, 'Category_ART_AND_DESIGN': 10, 'Category_COMMUNICATION': 10, 'Category_TRAVEL_AND_LOCAL': 10, 'Genres_Casual': 10, 'Content Rating_Everyone': 10, 'Category_LIBRARIES_AND_DEMO': 9, 'Category_EVENTS': 8, 'Category_PRODUCTIVITY': 8, 'Genres_Educational': 8, 'Content Rating_Mature 17+': 8, 'Category_FAMILY': 7, 'Genres_Racing': 7, 'Content Rating_Teen': 7, 'Category_BEAUTY': 6, 'Category_BUSINESS': 6, 'Category_EDUCATION': 6, 'Category_GAME': 6, 'Genres_Education;Education': 6, 'Genres_Simulation': 6, 'Category_AUTO_AND_VEHICLES': 4, 'Category_SPORTS': 4, 'Genres_Puzzle': 4, 'Genres_Card': 3, 'Genres_Educational;Education': 3, 'Category_FOOD_AND_DRINK': 2, 'Genres_Travel & Local': 2, 'Category_SOCIAL': 1, 'Genres_Arcade': 1, 'Genres_Art & Design': 1, 'Genres_Role Playing': 1, 'Genres_Strategy': 1, 'Category_COMICS': 0, 'Category_ENTERTAINMENT': 0, 'Category_HOUSE_AND_HOME': 0, 'Category_NEWS_AND_MAGAZINES': 0, 'Category_SHOPPING': 0, 'Category_WEATHER': 0, 'Genres_Action': 0, 'Genres_Action;Action & Adventure': 0, 'Genres_Adventure': 0, 'Genres_Adventure;Action & Adventure': 0, 'Genres_Adventure;Brain Games': 0, 'Genres_Adventure;Education': 0, 'Genres_Arcade;Action & Adventure': 0, 'Genres_Arcade;Pretend Play': 0, 'Genres_Art & Design;Action & Adventure': 0, 'Genres_Art & Design;Creativity': 0, 'Genres_Art & Design;Pretend Play': 0, 'Genres_Auto & Vehicles': 0, 'Genres_Beauty': 0, 'Genres_Board': 0, 'Genres_Board;Action & Adventure': 0, 'Genres_Board;Brain Games': 0, 'Genres_Board;Pretend Play': 0, 'Genres_Books & Reference': 0, 'Genres_Books & Reference;Creativity': 0, 'Genres_Books & Reference;Education': 0, 'Genres_Business': 0, 'Genres_Card;Action & Adventure': 0, 'Genres_Card;Brain Games': 0, 'Genres_Casino': 0, 'Genres_Casual;Action & Adventure': 0, 'Genres_Casual;Brain Games': 0, 'Genres_Casual;Creativity': 0, 'Genres_Casual;Education': 0, 'Genres_Casual;Music & Video': 0, 'Genres_Casual;Pretend Play': 0, 'Genres_Comics': 0, 'Genres_Comics;Creativity': 0, 'Genres_Communication': 0, 'Genres_Communication;Creativity': 0, 'Genres_Dating': 0, 'Genres_Education;Action & Adventure': 0, 'Genres_Education;Brain Games': 0, 'Genres_Education;Creativity': 0, 'Genres_Education;Music & Video': 0, 'Genres_Education;Pretend Play': 0, 'Genres_Educational;Action & Adventure': 0, 'Genres_Educational;Brain Games': 0, 'Genres_Educational;Creativity': 0, 'Genres_Educational;Pretend Play': 0, 'Genres_Entertainment;Action & Adventure': 0, 'Genres_Entertainment;Brain Games': 0, 'Genres_Entertainment;Creativity': 0, 'Genres_Entertainment;Education': 0, 'Genres_Entertainment;Music & Video': 0, 'Genres_Entertainment;Pretend Play': 0, 'Genres_Events': 0, 'Genres_Finance': 0, 'Genres_Food & Drink': 0, 'Genres_Health & Fitness': 0, 'Genres_Health & Fitness;Action & Adventure': 0, 'Genres_Health & Fitness;Education': 0, 'Genres_House & Home': 0, 'Genres_Libraries & Demo': 0, 'Genres_Lifestyle': 0, 'Genres_Lifestyle;Education': 0, 'Genres_Lifestyle;Pretend Play': 0, 'Genres_Maps & Navigation': 0, 'Genres_Medical': 0, 'Genres_Music': 0, 'Genres_Music & Audio;Music & Video': 0, 'Genres_Music;Music & Video': 0, 'Genres_News & Magazines': 0, 'Genres_Parenting': 0, 'Genres_Parenting;Brain Games': 0, 'Genres_Parenting;Education': 0, 'Genres_Parenting;Music & Video': 0, 'Genres_Personalization': 0, 'Genres_Photography': 0, 'Genres_Productivity': 0, 'Genres_Puzzle;Action & Adventure': 0, 'Genres_Puzzle;Brain Games': 0, 'Genres_Puzzle;Creativity': 0, 'Genres_Puzzle;Education': 0, 'Genres_Racing;Action & Adventure': 0, 'Genres_Racing;Pretend Play': 0, 'Genres_Role Playing;Action & Adventure': 0, 'Genres_Role Playing;Brain Games': 0, 'Genres_Role Playing;Education': 0, 'Genres_Role Playing;Pretend Play': 0, 'Genres_Shopping': 0, 'Genres_Simulation;Action & Adventure': 0, 'Genres_Simulation;Education': 0, 'Genres_Simulation;Pretend Play': 0, 'Genres_Social': 0, 'Genres_Sports': 0, 'Genres_Sports;Action & Adventure': 0, 'Genres_Strategy;Action & Adventure': 0, 'Genres_Strategy;Creativity': 0, 'Genres_Strategy;Education': 0, 'Genres_Tools': 0, 'Genres_Tools;Education': 0, 'Genres_Travel & Local;Action & Adventure': 0, 'Genres_Trivia': 0, 'Genres_Trivia;Education': 0, 'Genres_Video Players & Editors': 0, 'Genres_Video Players & Editors;Creativity': 0, 'Genres_Video Players & Editors;Music & Video': 0, 'Genres_Weather': 0, 'Genres_Word': 0, 'Content Rating_Adults only 18+': 0, 'Content Rating_Everyone 10+': 0, 'Content Rating_Unrated': 0, 'Type_Free': 0, 'Type_Paid': 0}\n"
          ],
          "name": "stdout"
        },
        {
          "output_type": "execute_result",
          "data": {
            "text/plain": [
              "<BarContainer object of 20 artists>"
            ]
          },
          "metadata": {
            "tags": []
          },
          "execution_count": 681
        },
        {
          "output_type": "display_data",
          "data": {
            "image/png": "[encoded data removed]",
            "text/plain": [
              "<Figure size 432x288 with 1 Axes>"
            ]
          },
          "metadata": {
            "tags": [],
            "needs_background": "light"
          }
        }
      ]
    },
    {
      "cell_type": "code",
      "metadata": {
        "id": "Y_JKEJWp3bRc",
        "colab_type": "code",
        "colab": {}
      },
      "source": [
        "#pcaあり\n",
        "paramG={'max_depth':[14,16,18,20,22,24],'n_estimators':[40,45,50,55,60]}\n",
        "gbm=lightgbm.LGBMRegressor()\n",
        "RFC_grid=GridSearchCV(estimator=gbm,param_grid=paramG, scoring='r2',cv=3)\n",
        "RFC_grid.fit(X_train_pca,y_train_pca)\n",
        "ypred2=model.predict(X_test)"
      ],
      "execution_count": 677,
      "outputs": []
    },
    {
      "cell_type": "code",
      "metadata": {
        "id": "rnHlcicVYqK-",
        "colab_type": "code",
        "colab": {
          "base_uri": "https://localhost:8080/",
          "height": 136
        },
        "outputId": "f607b75e-f137-49b7-9ad4-148bc94ea626"
      },
      "source": [
        "print('グリッドサーチ·lightGBMにおける n_estimators  :  %d'  %RFC_grid.best_estimator_.n_estimators)\n",
        "\n",
        "print('グリッドサーチ·lightGBMにおける max_depth  :  %d'  %RFC_grid.best_estimator_.max_depth)\n",
        "print('グリッドサーチ・lightGBMによる予測値   :  %.3f'  %r2_score(y_test, RFC_grid.predict(X_test_pca)))\n",
        "pred=RFC_grid.predict(X_test_pca)\n",
        "print(model_valuation(y_test_pca,pred))\n",
        "for i in range(600):\n",
        "  if 0<list(y_test)[i]<2:\n",
        "    print(f'予測値:{pred[i]},実際の値:{list(y_test_pca)[i]}')"
      ],
      "execution_count": 678,
      "outputs": [
        {
          "output_type": "stream",
          "text": [
            "グリッドサーチ·lightGBMにおける n_estimators  :  50\n",
            "グリッドサーチ·lightGBMにおける max_depth  :  16\n",
            "グリッドサーチ・lightGBMによる予測値   :  0.926\n",
            "{'RMSE': 0.1878, 'MAE': 0.26, 'R^2': 0.9264}\n",
            "予測値:4.334249610342809,実際の値:1.0\n",
            "予測値:3.6996459956394334,実際の値:1.7\n",
            "予測値:4.309053787346207,実際の値:1.4\n"
          ],
          "name": "stdout"
        }
      ]
    },
    {
      "cell_type": "code",
      "metadata": {
        "id": "1fgoLPYZR_tK",
        "colab_type": "code",
        "colab": {
          "base_uri": "https://localhost:8080/",
          "height": 1000
        },
        "outputId": "dca907a0-5296-4e8b-c62c-275d1093bc08"
      },
      "source": [
        "#ランダムフォレストとlightgbmの比較\n",
        "for i in range(len(y_test_pca)):\n",
        "  if 4.5<list(y_test_pca)[i]<5 and pred[i]<4:\n",
        "    print(f'実際の値:{list(y_test_pca)[i]}')\n",
        "    print(f'ランダムフォレスト:{pred[i]}')\n",
        "    print(f'    \\tlightGBM:{pred_gbm[i]}')\n",
        "    print('\\n')"
      ],
      "execution_count": 701,
      "outputs": [
        {
          "output_type": "stream",
          "text": [
            "実際の値:4.7\n",
            "ランダムフォレスト:3.8825296108291014\n",
            "    \tlightGBM:3.9389449963336762\n",
            "\n",
            "\n",
            "実際の値:4.6\n",
            "ランダムフォレスト:3.6324873096446684\n",
            "    \tlightGBM:4.199489969059803\n",
            "\n",
            "\n",
            "実際の値:4.9\n",
            "ランダムフォレスト:3.9701957940536574\n",
            "    \tlightGBM:3.9675710083366775\n",
            "\n",
            "\n",
            "実際の値:4.6\n",
            "ランダムフォレスト:3.946700507614216\n",
            "    \tlightGBM:4.046382463903064\n",
            "\n",
            "\n",
            "実際の値:4.6\n",
            "ランダムフォレスト:3.8147208121827365\n",
            "    \tlightGBM:3.925505761338243\n",
            "\n",
            "\n",
            "実際の値:4.6\n",
            "ランダムフォレスト:3.88172588832488\n",
            "    \tlightGBM:4.057183793210185\n",
            "\n",
            "\n",
            "実際の値:4.6\n",
            "ランダムフォレスト:3.917512690355332\n",
            "    \tlightGBM:4.064669101589723\n",
            "\n",
            "\n",
            "実際の値:4.8\n",
            "ランダムフォレスト:3.898477157360401\n",
            "    \tlightGBM:4.213738286847616\n",
            "\n",
            "\n",
            "実際の値:4.7\n",
            "ランダムフォレスト:3.989847715736039\n",
            "    \tlightGBM:4.321834741405415\n",
            "\n",
            "\n",
            "実際の値:4.6\n",
            "ランダムフォレスト:3.7146192893401\n",
            "    \tlightGBM:4.073288254182798\n",
            "\n",
            "\n",
            "実際の値:4.7\n",
            "ランダムフォレスト:3.948984771573601\n",
            "    \tlightGBM:4.090157710545806\n",
            "\n",
            "\n",
            "実際の値:4.7\n",
            "ランダムフォレスト:3.9883248730964462\n",
            "    \tlightGBM:3.98126474260558\n",
            "\n",
            "\n",
            "実際の値:4.6\n",
            "ランダムフォレスト:3.8492385786802035\n",
            "    \tlightGBM:4.16388512126433\n",
            "\n",
            "\n",
            "実際の値:4.6\n",
            "ランダムフォレスト:3.8879406788095934\n",
            "    \tlightGBM:4.042513996723394\n",
            "\n",
            "\n",
            "実際の値:4.7\n",
            "ランダムフォレスト:3.868274111675129\n",
            "    \tlightGBM:4.324924896757435\n",
            "\n",
            "\n",
            "実際の値:4.6\n",
            "ランダムフォレスト:3.976649746192894\n",
            "    \tlightGBM:4.130504802830352\n",
            "\n",
            "\n",
            "実際の値:4.9\n",
            "ランダムフォレスト:3.656345177664978\n",
            "    \tlightGBM:4.166211859392843\n",
            "\n",
            "\n",
            "実際の値:4.7\n",
            "ランダムフォレスト:3.9741116751268977\n",
            "    \tlightGBM:4.015951258770743\n",
            "\n",
            "\n",
            "実際の値:4.7\n",
            "ランダムフォレスト:3.9266631044616607\n",
            "    \tlightGBM:3.6265610484668174\n",
            "\n",
            "\n",
            "実際の値:4.7\n",
            "ランダムフォレスト:3.689340101522847\n",
            "    \tlightGBM:4.1457830146227375\n",
            "\n",
            "\n",
            "実際の値:4.8\n",
            "ランダムフォレスト:3.8757102810818993\n",
            "    \tlightGBM:4.496072135659682\n",
            "\n",
            "\n",
            "実際の値:4.6\n",
            "ランダムフォレスト:3.6182741116751242\n",
            "    \tlightGBM:3.933506696241933\n",
            "\n",
            "\n",
            "実際の値:4.8\n",
            "ランダムフォレスト:3.7477157360406044\n",
            "    \tlightGBM:3.9287977496831705\n",
            "\n",
            "\n",
            "実際の値:4.6\n",
            "ランダムフォレスト:3.980432680686484\n",
            "    \tlightGBM:4.010486674012177\n",
            "\n",
            "\n",
            "実際の値:4.7\n",
            "ランダムフォレスト:3.8862944162436546\n",
            "    \tlightGBM:4.047196260347166\n",
            "\n",
            "\n",
            "実際の値:4.6\n",
            "ランダムフォレスト:3.78829789312023\n",
            "    \tlightGBM:3.796551638743959\n",
            "\n",
            "\n",
            "実際の値:4.6\n",
            "ランダムフォレスト:3.810659898477155\n",
            "    \tlightGBM:3.958829015445372\n",
            "\n",
            "\n",
            "実際の値:4.6\n",
            "ランダムフォレスト:3.929441624365484\n",
            "    \tlightGBM:4.095666370600179\n",
            "\n",
            "\n",
            "実際の値:4.6\n",
            "ランダムフォレスト:3.815228426395942\n",
            "    \tlightGBM:3.978463537790639\n",
            "\n",
            "\n",
            "実際の値:4.6\n",
            "ランダムフォレスト:3.6873477157360384\n",
            "    \tlightGBM:4.196395863914094\n",
            "\n",
            "\n"
          ],
          "name": "stdout"
        }
      ]
    },
    {
      "cell_type": "code",
      "metadata": {
        "id": "bF6bSM66WPMw",
        "colab_type": "code",
        "colab": {}
      },
      "source": [
        ""
      ],
      "execution_count": 681,
      "outputs": []
    }
  ]
}